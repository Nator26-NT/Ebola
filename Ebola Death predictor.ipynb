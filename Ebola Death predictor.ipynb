{
 "cells": [
  {
   "cell_type": "code",
   "execution_count": 471,
   "id": "c64c1fc8-fa5b-4234-a55c-7ecd365df823",
   "metadata": {},
   "outputs": [],
   "source": [
    "import pandas as pd\n",
    "import numpy as np\n",
    "import matplotlib.pyplot as plt\n",
    "import sklearn as sk\n",
    "from sklearn import model_selection as MS\n",
    "from sklearn.linear_model import LinearRegression\n",
    "from sklearn import preprocessing\n",
    "import seaborn as sns"
   ]
  },
  {
   "cell_type": "code",
   "execution_count": 472,
   "id": "87b4c870-ce27-4eae-ab8c-4363d5583a42",
   "metadata": {},
   "outputs": [],
   "source": [
    "IBmers_Data = pd.read_csv(\"Documents\\ebola_2014_2016_clean.csv\")"
   ]
  },
  {
   "cell_type": "code",
   "execution_count": 473,
   "id": "515e11c2-415a-45a4-ad18-b181f4c5b94a",
   "metadata": {},
   "outputs": [
    {
     "data": {
      "text/html": [
       "<div>\n",
       "<style scoped>\n",
       "    .dataframe tbody tr th:only-of-type {\n",
       "        vertical-align: middle;\n",
       "    }\n",
       "\n",
       "    .dataframe tbody tr th {\n",
       "        vertical-align: top;\n",
       "    }\n",
       "\n",
       "    .dataframe thead th {\n",
       "        text-align: right;\n",
       "    }\n",
       "</style>\n",
       "<table border=\"1\" class=\"dataframe\">\n",
       "  <thead>\n",
       "    <tr style=\"text-align: right;\">\n",
       "      <th></th>\n",
       "      <th>Country</th>\n",
       "      <th>Date</th>\n",
       "      <th>Cumulative no. of confirmed, probable and suspected cases</th>\n",
       "      <th>Cumulative no. of confirmed, probable and suspected deaths</th>\n",
       "    </tr>\n",
       "  </thead>\n",
       "  <tbody>\n",
       "    <tr>\n",
       "      <th>0</th>\n",
       "      <td>Guinea</td>\n",
       "      <td>2014-08-29</td>\n",
       "      <td>648.0</td>\n",
       "      <td>430.0</td>\n",
       "    </tr>\n",
       "    <tr>\n",
       "      <th>1</th>\n",
       "      <td>Nigeria</td>\n",
       "      <td>2014-08-29</td>\n",
       "      <td>19.0</td>\n",
       "      <td>7.0</td>\n",
       "    </tr>\n",
       "    <tr>\n",
       "      <th>2</th>\n",
       "      <td>Sierra Leone</td>\n",
       "      <td>2014-08-29</td>\n",
       "      <td>1026.0</td>\n",
       "      <td>422.0</td>\n",
       "    </tr>\n",
       "    <tr>\n",
       "      <th>3</th>\n",
       "      <td>Liberia</td>\n",
       "      <td>2014-08-29</td>\n",
       "      <td>1378.0</td>\n",
       "      <td>694.0</td>\n",
       "    </tr>\n",
       "    <tr>\n",
       "      <th>4</th>\n",
       "      <td>Sierra Leone</td>\n",
       "      <td>2014-09-05</td>\n",
       "      <td>1261.0</td>\n",
       "      <td>491.0</td>\n",
       "    </tr>\n",
       "  </tbody>\n",
       "</table>\n",
       "</div>"
      ],
      "text/plain": [
       "        Country        Date  \\\n",
       "0        Guinea  2014-08-29   \n",
       "1       Nigeria  2014-08-29   \n",
       "2  Sierra Leone  2014-08-29   \n",
       "3       Liberia  2014-08-29   \n",
       "4  Sierra Leone  2014-09-05   \n",
       "\n",
       "   Cumulative no. of confirmed, probable and suspected cases  \\\n",
       "0                                              648.0           \n",
       "1                                               19.0           \n",
       "2                                             1026.0           \n",
       "3                                             1378.0           \n",
       "4                                             1261.0           \n",
       "\n",
       "   Cumulative no. of confirmed, probable and suspected deaths  \n",
       "0                                              430.0           \n",
       "1                                                7.0           \n",
       "2                                              422.0           \n",
       "3                                              694.0           \n",
       "4                                              491.0           "
      ]
     },
     "execution_count": 473,
     "metadata": {},
     "output_type": "execute_result"
    }
   ],
   "source": [
    "IBmers_Data.head()"
   ]
  },
  {
   "cell_type": "code",
   "execution_count": 474,
   "id": "beaedd4e-6332-448a-8b6e-765ff992a9d8",
   "metadata": {},
   "outputs": [],
   "source": [
    "# Select the 'Age' column\n",
    "IBmers_Data = pd.DataFrame.isna(IBmers_Data)\n",
    "Column1 = ['Cumulative no. of confirmed, probable and suspected cases']\n",
    "X = pd.read_csv('Documents\\ebola_2014_2016_clean.csv', usecols=Column1)\n",
    "Column2 = ['Cumulative no. of confirmed, probable and suspected deaths']\n",
    "Y = pd.read_csv('Documents\\ebola_2014_2016_clean.csv', usecols=Column2)\n",
    "Y = Y.head(100)\n",
    "X = X.head(100)"
   ]
  },
  {
   "cell_type": "code",
   "execution_count": 475,
   "id": "18029291-4743-4ed5-8852-393a0e07f105",
   "metadata": {},
   "outputs": [],
   "source": [
    "X_train, X_test , Y_train , Y_test = MS.train_test_split( X, Y, train_size = 0.8, random_state = 1)"
   ]
  },
  {
   "cell_type": "code",
   "execution_count": 476,
   "id": "f803ace6-f701-4448-9273-35e0a3273424",
   "metadata": {},
   "outputs": [],
   "source": [
    "model = sk.linear_model.LinearRegression()\n",
    "model.fit(X_train,Y_train)\n",
    "model.score(X_test, Y_test)\n",
    "y_pred = model.predict(X_test)"
   ]
  },
  {
   "cell_type": "code",
   "execution_count": 478,
   "id": "eedfb472-1d9f-4dec-b653-ad7700e642fa",
   "metadata": {},
   "outputs": [
    {
     "data": {
      "image/png": "[encoded data removed]",
      "text/plain": [
       "<Figure size 1200x600 with 1 Axes>"
      ]
     },
     "metadata": {},
     "output_type": "display_data"
    }
   ],
   "source": [
    "red =  plt.figure(figsize=(12,6))\n",
    "plt.subplot(1,2,1)\n",
    "plt.scatter(Y_test, y_pred, color='blue')\n",
    "plt.plot([min(y_pred), max(y_pred)], [min(y_pred), max(y_pred)], color='red', linestyle='--')\n",
    "plt.xlabel('Sick')\n",
    "plt.ylabel('Dying')\n",
    "plt.title('Ebola Chart')\n",
    "plt.show()"
   ]
  }
 ],
 "metadata": {
  "kernelspec": {
   "display_name": "Python 3 (ipykernel)",
   "language": "python",
   "name": "python3"
  },
  "language_info": {
   "codemirror_mode": {
    "name": "ipython",
    "version": 3
   },
   "file_extension": ".py",
   "mimetype": "text/x-python",
   "name": "python",
   "nbconvert_exporter": "python",
   "pygments_lexer": "ipython3",
   "version": "3.11.7"
  }
 },
 "nbformat": 4,
 "nbformat_minor": 5
}
